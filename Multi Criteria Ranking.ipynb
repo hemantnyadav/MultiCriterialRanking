{
 "cells": [
  {
   "cell_type": "code",
   "execution_count": 120,
   "metadata": {},
   "outputs": [],
   "source": [
    "import numpy as np\n",
    "import pandas as pd\n",
    "import matplotlib.pyplot as plt\n",
    "from sklearn import preprocessing\n",
    "from xgboost import XGBClassifier\n",
    "from sklearn.metrics import f1_score\n",
    "from sklearn import linear_model\n",
    "from sklearn.multioutput import MultiOutputClassifier\n",
    "from sklearn.multioutput import MultiOutputRegressor\n",
    "from sklearn.ensemble import RandomForestClassifier\n",
    "from sklearn.ensemble import RandomForestRegressor\n",
    "import warnings\n",
    "warnings.filterwarnings('ignore')"
   ]
  },
  {
   "cell_type": "markdown",
   "metadata": {},
   "source": [
    "1. Import data\n",
    "2. Select Test and train data\n",
    "3. Divide data in target and features\n",
    "4. Search and Select Relevant Features\n",
    "5. Fit MultiTarget Classifier\n",
    "6. Test accuracy and compare\n",
    "7. Fit MultiTarget Regressor (Try to use only success cases after analysing)\n",
    "8. Test accuracy and compare\n",
    "9. Develope ranking method (ART Method)\n",
    "10. Derive absoluate ranks to check accuracy\n",
    "11. Predict ranks of test set and find accuracy (Do not calculate but predict)"
   ]
  },
  {
   "cell_type": "markdown",
   "metadata": {},
   "source": [
    "### 1. Import data"
   ]
  },
  {
   "cell_type": "code",
   "execution_count": 2,
   "metadata": {},
   "outputs": [],
   "source": [
    "data1900 = pd.read_csv(\"F:\\\\ML\\\\MultiTarget\\\\data1900.csv\")"
   ]
  },
  {
   "cell_type": "markdown",
   "metadata": {},
   "source": [
    "### 2. Select Test and train data"
   ]
  },
  {
   "cell_type": "code",
   "execution_count": 15,
   "metadata": {},
   "outputs": [
    {
     "name": "stdout",
     "output_type": "stream",
     "text": [
      "('Test Shape:', (465, 157), '\\t train shape:', (1500, 157))\n"
     ]
    }
   ],
   "source": [
    "# Selecting data in test and train\n",
    "Test  = data1900[data1900.Category=='Test']\n",
    "Train = data1900[data1900.Category == 'Train']\n",
    "print(\"Test Shape:\", Test.shape,\"\\t train shape:\", Train.shape)"
   ]
  },
  {
   "cell_type": "markdown",
   "metadata": {},
   "source": [
    "### 3. Select target and features"
   ]
  },
  {
   "cell_type": "code",
   "execution_count": 109,
   "metadata": {},
   "outputs": [],
   "source": [
    "# Features starts from 33rd columns\n",
    "Test_features  = Test.iloc[:,36:]\n",
    "Train_features = Train.iloc[:,36:]\n",
    "\n",
    "# Classification targets (Reasoner to be predicted)\n",
    "Test_Targets_c = Test[filter(lambda x: (x.endswith('CORR')) , Test.columns.tolist())]\n",
    "Train_Targets_c = Train[filter(lambda x: (x.endswith('CORR')) , Train.columns.tolist())]\n",
    "\n",
    "for t in Test_Targets_c.columns.tolist():\n",
    "    Test_Targets_c.loc[Test_Targets_c[t] != 'Correct', t] = 0\n",
    "    Test_Targets_c.loc[Test_Targets_c[t] == 'Correct', t] = 1\n",
    "    \n",
    "    Train_Targets_c.loc[Train_Targets_c[t] != 'Correct', t] = 0\n",
    "    Train_Targets_c.loc[Train_Targets_c[t] == 'Correct', t] = 1\n",
    "\n",
    "lbl = preprocessing.LabelEncoder()\n",
    "\n",
    "for t in Test_features.columns.tolist():\n",
    "    if(Train_features[t].dtype == 'O'):\n",
    "        Train_features[t] = lbl.fit_transform(Train_features[t])\n",
    "        Test_features[t] = lbl.fit_transform(Test_features[t])\n",
    "'''\n",
    "for t in Test_Targets_c.columns.tolist():\n",
    "    if(Train_Targets_c[t].dtype == 'object'):\n",
    "        Test_Targets_c[t] = lbl.fit_transform(Test_Targets_c[t])\n",
    "        Train_Targets_c[t] = lbl.fit_transform(Train_Targets_c[t])\n",
    "    \n",
    "'''    \n",
    "\n",
    "#Regressor targets (Execution time of each reasoner)\n",
    "Test_Targets_r = Test[filter(lambda x: (x.endswith('ETime')) , Test.columns.tolist())]\n",
    "Train_Targets_r = Train[filter(lambda x: (x.endswith('ETime')) , Train.columns.tolist())]\n"
   ]
  },
  {
   "cell_type": "code",
   "execution_count": 39,
   "metadata": {},
   "outputs": [
    {
     "name": "stdout",
     "output_type": "stream",
     "text": [
      "((465, 124), (1500, 124), (465, 10), (1500, 10), (465, 10), (1500, 10))\n"
     ]
    }
   ],
   "source": [
    "print(Test_features.shape,Train_Features.shape, Test_Targets_c.shape, Train_Targets_c.shape, Test_Targets_r.shape, Train_Targets_r.shape)"
   ]
  },
  {
   "cell_type": "markdown",
   "metadata": {},
   "source": [
    "### 4. Select Relevenat features"
   ]
  },
  {
   "cell_type": "markdown",
   "metadata": {},
   "source": [
    "### 5. Fit Multilable classifier"
   ]
  },
  {
   "cell_type": "code",
   "execution_count": 104,
   "metadata": {},
   "outputs": [],
   "source": [
    "clf_rf = RandomForestClassifier(n_estimators=100,random_state=45)\n",
    "mclf_rf = MultiOutputClassifier(clf_rf, n_jobs=-1)\n",
    "mclf_rf.fit(Train_features, Train_Targets_c)"
   ]
  },
  {
   "cell_type": "code",
   "execution_count": 118,
   "metadata": {},
   "outputs": [
    {
     "data": {
      "text/plain": [
       "0.74838709677419357"
      ]
     },
     "execution_count": 118,
     "metadata": {},
     "output_type": "execute_result"
    }
   ],
   "source": [
    "mclf_rf.score(Test_features, Test_Targets_c)"
   ]
  },
  {
   "cell_type": "code",
   "execution_count": 123,
   "metadata": {},
   "outputs": [],
   "source": [
    "m_relevance_vector = mclf_rf.predict(Test_features)"
   ]
  },
  {
   "cell_type": "code",
   "execution_count": 117,
   "metadata": {},
   "outputs": [
    {
     "data": {
      "text/html": [
       "<div>\n",
       "<style scoped>\n",
       "    .dataframe tbody tr th:only-of-type {\n",
       "        vertical-align: middle;\n",
       "    }\n",
       "\n",
       "    .dataframe tbody tr th {\n",
       "        vertical-align: top;\n",
       "    }\n",
       "\n",
       "    .dataframe thead th {\n",
       "        text-align: right;\n",
       "    }\n",
       "</style>\n",
       "<table border=\"1\" class=\"dataframe\">\n",
       "  <thead>\n",
       "    <tr style=\"text-align: right;\">\n",
       "      <th></th>\n",
       "      <th>Racer_CORR</th>\n",
       "      <th>ELepHant_CORR</th>\n",
       "      <th>TrOWL_CORR</th>\n",
       "      <th>JFact_CORR</th>\n",
       "      <th>MOReHermiT_CORR</th>\n",
       "      <th>Konclude_CORR</th>\n",
       "      <th>FaCT++_CORR</th>\n",
       "      <th>ELK_CORR</th>\n",
       "      <th>Pellet-OA4_CORR</th>\n",
       "      <th>HermiT-OA4_CORR</th>\n",
       "    </tr>\n",
       "  </thead>\n",
       "  <tbody>\n",
       "    <tr>\n",
       "      <th>0</th>\n",
       "      <td>1</td>\n",
       "      <td>0</td>\n",
       "      <td>1</td>\n",
       "      <td>1</td>\n",
       "      <td>1</td>\n",
       "      <td>1</td>\n",
       "      <td>1</td>\n",
       "      <td>1</td>\n",
       "      <td>1</td>\n",
       "      <td>1</td>\n",
       "    </tr>\n",
       "    <tr>\n",
       "      <th>1</th>\n",
       "      <td>1</td>\n",
       "      <td>0</td>\n",
       "      <td>1</td>\n",
       "      <td>1</td>\n",
       "      <td>1</td>\n",
       "      <td>1</td>\n",
       "      <td>1</td>\n",
       "      <td>1</td>\n",
       "      <td>1</td>\n",
       "      <td>1</td>\n",
       "    </tr>\n",
       "    <tr>\n",
       "      <th>3</th>\n",
       "      <td>1</td>\n",
       "      <td>0</td>\n",
       "      <td>0</td>\n",
       "      <td>0</td>\n",
       "      <td>0</td>\n",
       "      <td>1</td>\n",
       "      <td>0</td>\n",
       "      <td>0</td>\n",
       "      <td>0</td>\n",
       "      <td>0</td>\n",
       "    </tr>\n",
       "    <tr>\n",
       "      <th>5</th>\n",
       "      <td>0</td>\n",
       "      <td>0</td>\n",
       "      <td>1</td>\n",
       "      <td>0</td>\n",
       "      <td>0</td>\n",
       "      <td>1</td>\n",
       "      <td>0</td>\n",
       "      <td>1</td>\n",
       "      <td>0</td>\n",
       "      <td>0</td>\n",
       "    </tr>\n",
       "    <tr>\n",
       "      <th>6</th>\n",
       "      <td>0</td>\n",
       "      <td>0</td>\n",
       "      <td>1</td>\n",
       "      <td>0</td>\n",
       "      <td>0</td>\n",
       "      <td>1</td>\n",
       "      <td>0</td>\n",
       "      <td>1</td>\n",
       "      <td>0</td>\n",
       "      <td>0</td>\n",
       "    </tr>\n",
       "  </tbody>\n",
       "</table>\n",
       "</div>"
      ],
      "text/plain": [
       "   Racer_CORR  ELepHant_CORR  TrOWL_CORR  JFact_CORR  MOReHermiT_CORR  \\\n",
       "0           1              0           1           1                1   \n",
       "1           1              0           1           1                1   \n",
       "3           1              0           0           0                0   \n",
       "5           0              0           1           0                0   \n",
       "6           0              0           1           0                0   \n",
       "\n",
       "   Konclude_CORR  FaCT++_CORR  ELK_CORR  Pellet-OA4_CORR  HermiT-OA4_CORR  \n",
       "0              1            1         1                1                1  \n",
       "1              1            1         1                1                1  \n",
       "3              1            0         0                0                0  \n",
       "5              1            0         1                0                0  \n",
       "6              1            0         1                0                0  "
      ]
     },
     "execution_count": 117,
     "metadata": {},
     "output_type": "execute_result"
    }
   ],
   "source": [
    "relevance_vector = pd.DataFrame(data = Train_Targets_c, columns = Train_Targets_c.columns.tolist())\n",
    "for c in  Train_Targets_c.columns.tolist():\n",
    "    clf_rf.fit(Train_features, Train_Targets_c[c])\n",
    "    relevance_vector[c] =  clf_rf.predict(Train_features)\n",
    "    #print(c,':',clf_rf.score(Test_features, Test_Targets_c[c]))\n",
    "relevance_vector.head()"
   ]
  },
  {
   "cell_type": "code",
   "execution_count": 124,
   "metadata": {},
   "outputs": [],
   "source": [
    "rgs_rf = RandomForestRegressor(n_estimators=100,random_state=45)\n",
    "mrgs_rf = MultiOutputRegressor(rgs_rf, n_jobs=-1)\n"
   ]
  },
  {
   "cell_type": "code",
   "execution_count": 125,
   "metadata": {},
   "outputs": [
    {
     "data": {
      "text/plain": [
       "MultiOutputRegressor(estimator=RandomForestRegressor(bootstrap=True, criterion='mse', max_depth=None,\n",
       "           max_features='auto', max_leaf_nodes=None,\n",
       "           min_impurity_split=1e-07, min_samples_leaf=1,\n",
       "           min_samples_split=2, min_weight_fraction_leaf=0.0,\n",
       "           n_estimators=100, n_jobs=1, oob_score=False, random_state=45,\n",
       "           verbose=0, warm_start=False),\n",
       "           n_jobs=-1)"
      ]
     },
     "execution_count": 125,
     "metadata": {},
     "output_type": "execute_result"
    }
   ],
   "source": [
    "mrgs_rf.fit(Train_features, Train_Targets_r)"
   ]
  },
  {
   "cell_type": "code",
   "execution_count": 126,
   "metadata": {},
   "outputs": [
    {
     "data": {
      "text/plain": [
       "0.70094398753695764"
      ]
     },
     "execution_count": 126,
     "metadata": {},
     "output_type": "execute_result"
    }
   ],
   "source": [
    "mrgs_rf.score(Test_features, Test_Targets_r)"
   ]
  },
  {
   "cell_type": "code",
   "execution_count": 128,
   "metadata": {},
   "outputs": [],
   "source": [
    "m_timerank_vector = mrgs_rf.predict(Test_features)"
   ]
  },
  {
   "cell_type": "code",
   "execution_count": 130,
   "metadata": {},
   "outputs": [
    {
     "data": {
      "text/html": [
       "<div>\n",
       "<style scoped>\n",
       "    .dataframe tbody tr th:only-of-type {\n",
       "        vertical-align: middle;\n",
       "    }\n",
       "\n",
       "    .dataframe tbody tr th {\n",
       "        vertical-align: top;\n",
       "    }\n",
       "\n",
       "    .dataframe thead th {\n",
       "        text-align: right;\n",
       "    }\n",
       "</style>\n",
       "<table border=\"1\" class=\"dataframe\">\n",
       "  <thead>\n",
       "    <tr style=\"text-align: right;\">\n",
       "      <th></th>\n",
       "      <th>Racer_ETime</th>\n",
       "      <th>ELepHant_ETime</th>\n",
       "      <th>TrOWL_ETime</th>\n",
       "      <th>JFact_ETime</th>\n",
       "      <th>MOReHermiT_ETime</th>\n",
       "      <th>Konclude_ETime</th>\n",
       "      <th>FaCT++_ETime</th>\n",
       "      <th>ELK_ETime</th>\n",
       "      <th>Pellet-OA4_ETime</th>\n",
       "      <th>HermiT-OA4_ETime</th>\n",
       "    </tr>\n",
       "  </thead>\n",
       "  <tbody>\n",
       "    <tr>\n",
       "      <th>0</th>\n",
       "      <td>74953.771667</td>\n",
       "      <td>36.210000</td>\n",
       "      <td>5234.950000</td>\n",
       "      <td>135538.04500</td>\n",
       "      <td>2995.300000</td>\n",
       "      <td>3858.708333</td>\n",
       "      <td>17558.080000</td>\n",
       "      <td>1725.930000</td>\n",
       "      <td>8253.410000</td>\n",
       "      <td>14318.990000</td>\n",
       "    </tr>\n",
       "    <tr>\n",
       "      <th>1</th>\n",
       "      <td>4644.003333</td>\n",
       "      <td>13.050000</td>\n",
       "      <td>1500.630000</td>\n",
       "      <td>6633.27000</td>\n",
       "      <td>1649.195000</td>\n",
       "      <td>389.990000</td>\n",
       "      <td>2949.203667</td>\n",
       "      <td>859.973333</td>\n",
       "      <td>2405.470000</td>\n",
       "      <td>2495.950000</td>\n",
       "    </tr>\n",
       "    <tr>\n",
       "      <th>3</th>\n",
       "      <td>27288.220000</td>\n",
       "      <td>22.430000</td>\n",
       "      <td>4708.596667</td>\n",
       "      <td>40777.08000</td>\n",
       "      <td>47703.430000</td>\n",
       "      <td>1207.210000</td>\n",
       "      <td>39842.053333</td>\n",
       "      <td>456.650000</td>\n",
       "      <td>37450.360000</td>\n",
       "      <td>33430.180000</td>\n",
       "    </tr>\n",
       "    <tr>\n",
       "      <th>5</th>\n",
       "      <td>207627.850000</td>\n",
       "      <td>679.201417</td>\n",
       "      <td>5897.824417</td>\n",
       "      <td>204817.89725</td>\n",
       "      <td>203779.115583</td>\n",
       "      <td>4026.699500</td>\n",
       "      <td>65112.786250</td>\n",
       "      <td>2221.227417</td>\n",
       "      <td>209744.002417</td>\n",
       "      <td>177813.587167</td>\n",
       "    </tr>\n",
       "    <tr>\n",
       "      <th>6</th>\n",
       "      <td>207627.850000</td>\n",
       "      <td>679.201417</td>\n",
       "      <td>5897.824417</td>\n",
       "      <td>204817.89725</td>\n",
       "      <td>203779.115583</td>\n",
       "      <td>4026.699500</td>\n",
       "      <td>65112.786250</td>\n",
       "      <td>2221.227417</td>\n",
       "      <td>209744.002417</td>\n",
       "      <td>177813.587167</td>\n",
       "    </tr>\n",
       "  </tbody>\n",
       "</table>\n",
       "</div>"
      ],
      "text/plain": [
       "     Racer_ETime  ELepHant_ETime  TrOWL_ETime   JFact_ETime  MOReHermiT_ETime  \\\n",
       "0   74953.771667       36.210000  5234.950000  135538.04500       2995.300000   \n",
       "1    4644.003333       13.050000  1500.630000    6633.27000       1649.195000   \n",
       "3   27288.220000       22.430000  4708.596667   40777.08000      47703.430000   \n",
       "5  207627.850000      679.201417  5897.824417  204817.89725     203779.115583   \n",
       "6  207627.850000      679.201417  5897.824417  204817.89725     203779.115583   \n",
       "\n",
       "   Konclude_ETime  FaCT++_ETime    ELK_ETime  Pellet-OA4_ETime  \\\n",
       "0     3858.708333  17558.080000  1725.930000       8253.410000   \n",
       "1      389.990000   2949.203667   859.973333       2405.470000   \n",
       "3     1207.210000  39842.053333   456.650000      37450.360000   \n",
       "5     4026.699500  65112.786250  2221.227417     209744.002417   \n",
       "6     4026.699500  65112.786250  2221.227417     209744.002417   \n",
       "\n",
       "   HermiT-OA4_ETime  \n",
       "0      14318.990000  \n",
       "1       2495.950000  \n",
       "3      33430.180000  \n",
       "5     177813.587167  \n",
       "6     177813.587167  "
      ]
     },
     "execution_count": 130,
     "metadata": {},
     "output_type": "execute_result"
    }
   ],
   "source": [
    "timerank_vector = pd.DataFrame(data = Train_Targets_r, columns = Train_Targets_r.columns.tolist())\n",
    "for c in  Train_Targets_r.columns.tolist():\n",
    "    rgs_rf.fit(Train_features, Train_Targets_r[c])\n",
    "    timerank_vector[c] =  rgs_rf.predict(Train_features)\n",
    "    #print(c,':',clf_rf.score(Test_features, Test_Targets_c[c]))\n",
    "timerank_vector.head()"
   ]
  }
 ],
 "metadata": {
  "kernelspec": {
   "display_name": "Python [conda env:aind-dog]",
   "language": "python",
   "name": "conda-env-aind-dog-py"
  },
  "language_info": {
   "codemirror_mode": {
    "name": "ipython",
    "version": 2
   },
   "file_extension": ".py",
   "mimetype": "text/x-python",
   "name": "python",
   "nbconvert_exporter": "python",
   "pygments_lexer": "ipython2",
   "version": "2.7.15"
  }
 },
 "nbformat": 4,
 "nbformat_minor": 2
}
