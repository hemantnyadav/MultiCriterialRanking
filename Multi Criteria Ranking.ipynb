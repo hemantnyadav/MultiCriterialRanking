{
 "cells": [
  {
   "cell_type": "code",
   "execution_count": 1,
   "metadata": {},
   "outputs": [],
   "source": [
    "import numpy as np\n",
    "import pandas as pd\n",
    "import matplotlib.pyplot as plt\n",
    "from sklearn import preprocessing\n",
    "from xgboost import XGBClassifier\n",
    "from sklearn.metrics import f1_score\n",
    "from sklearn import linear_model\n",
    "from sklearn.multioutput import MultiOutputClassifier\n",
    "from sklearn.multioutput import MultiOutputRegressor\n",
    "from sklearn.ensemble import RandomForestClassifier\n",
    "import warnings\n",
    "warnings.filterwarnings('ignore')"
   ]
  },
  {
   "cell_type": "markdown",
   "metadata": {},
   "source": [
    "1. Import data\n",
    "2. Select Test and train data\n",
    "3. Divide data in target and features\n",
    "4. Search and Select Relevant Features\n",
    "5. Fit MultiTarget Classifier\n",
    "6. Test accuracy and compare\n",
    "7. Fit MultiTarget Regressor (Try to use only success cases after analysing)\n",
    "8. Test accuracy and compare\n",
    "9. Develope ranking method (ART Method)\n",
    "10. Derive absoluate ranks to check accuracy\n",
    "11. Predict ranks of test set and find accuracy (Do not calculate but predict)"
   ]
  },
  {
   "cell_type": "markdown",
   "metadata": {},
   "source": [
    "### 1. Import data"
   ]
  },
  {
   "cell_type": "code",
   "execution_count": 2,
   "metadata": {},
   "outputs": [],
   "source": [
    "data1900 = pd.read_csv(\"F:\\\\ML\\\\MultiTarget\\\\data1900.csv\")"
   ]
  },
  {
   "cell_type": "markdown",
   "metadata": {},
   "source": [
    "### 2. Select Test and train data"
   ]
  },
  {
   "cell_type": "code",
   "execution_count": 15,
   "metadata": {},
   "outputs": [
    {
     "name": "stdout",
     "output_type": "stream",
     "text": [
      "('Test Shape:', (465, 157), '\\t train shape:', (1500, 157))\n"
     ]
    }
   ],
   "source": [
    "# Selecting data in test and train\n",
    "Test  = data1900[data1900.Category=='Test']\n",
    "Train = data1900[data1900.Category == 'Train']\n",
    "print(\"Test Shape:\", Test.shape,\"\\t train shape:\", Train.shape)"
   ]
  },
  {
   "cell_type": "markdown",
   "metadata": {},
   "source": [
    "### 3. Select target and features"
   ]
  },
  {
   "cell_type": "code",
   "execution_count": 25,
   "metadata": {},
   "outputs": [
    {
     "name": "stdout",
     "output_type": "stream",
     "text": [
      "['Racer_CORR', 'ELepHant_CORR', 'TrOWL_CORR', 'JFact_CORR', 'MOReHermiT_CORR', 'Konclude_CORR', 'FaCT++_CORR', 'ELK_CORR', 'Pellet-OA4_CORR', 'HermiT-OA4_CORR']\n"
     ]
    }
   ],
   "source": [
    "y = (filter(lambda x: (x.endswith('CORR')) , Test.columns.tolist()))\n",
    "print(y)"
   ]
  },
  {
   "cell_type": "code",
   "execution_count": 37,
   "metadata": {},
   "outputs": [],
   "source": [
    "# Features starts from 33rd columns\n",
    "Test_features  = Test.iloc[:,33:]\n",
    "Train_Features = Train.iloc[:,33:]\n",
    "\n",
    "# Classification targets (Reasoner to be predicted)\n",
    "Test_Targets_c = Test[filter(lambda x: (x.endswith('CORR')) , Test.columns.tolist())]\n",
    "Train_Targets_c = Train[filter(lambda x: (x.endswith('CORR')) , Train.columns.tolist())]\n",
    "\n",
    "#Regressor targets (Execution time of each reasoner)\n",
    "Test_Targets_r = Test[filter(lambda x: (x.endswith('ETime')) , Test.columns.tolist())]\n",
    "Train_Targets_r = Train[filter(lambda x: (x.endswith('ETime')) , Train.columns.tolist())]\n"
   ]
  },
  {
   "cell_type": "code",
   "execution_count": 39,
   "metadata": {},
   "outputs": [
    {
     "name": "stdout",
     "output_type": "stream",
     "text": [
      "((465, 124), (1500, 124), (465, 10), (1500, 10), (465, 10), (1500, 10))\n"
     ]
    }
   ],
   "source": [
    "print(Test_features.shape,Train_Features.shape, Test_Targets_c.shape, Train_Targets_c.shape, Test_Targets_r.shape, Train_Targets_r.shape)"
   ]
  }
 ],
 "metadata": {
  "kernelspec": {
   "display_name": "Python [conda env:aind-dog]",
   "language": "python",
   "name": "conda-env-aind-dog-py"
  },
  "language_info": {
   "codemirror_mode": {
    "name": "ipython",
    "version": 2
   },
   "file_extension": ".py",
   "mimetype": "text/x-python",
   "name": "python",
   "nbconvert_exporter": "python",
   "pygments_lexer": "ipython2",
   "version": "2.7.15"
  }
 },
 "nbformat": 4,
 "nbformat_minor": 2
}
